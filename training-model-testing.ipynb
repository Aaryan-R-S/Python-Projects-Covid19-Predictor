{
 "metadata": {
  "language_info": {
   "codemirror_mode": {
    "name": "ipython",
    "version": 3
   },
   "file_extension": ".py",
   "mimetype": "text/x-python",
   "name": "python",
   "nbconvert_exporter": "python",
   "pygments_lexer": "ipython3",
   "version": "3.8.2-final"
  },
  "orig_nbformat": 2,
  "kernelspec": {
   "name": "python3",
   "display_name": "Python 3",
   "language": "python"
  }
 },
 "nbformat": 4,
 "nbformat_minor": 2,
 "cells": [
  {
   "cell_type": "code",
   "execution_count": 62,
   "metadata": {},
   "outputs": [],
   "source": [
    "import pandas as pd"
   ]
  },
  {
   "source": [
    "----------------- Reading Data ---------------"
   ],
   "cell_type": "markdown",
   "metadata": {}
  },
  {
   "cell_type": "code",
   "execution_count": 63,
   "metadata": {},
   "outputs": [
    {
     "output_type": "execute_result",
     "data": {
      "text/plain": [
       "           fever  bodyPain  age  runnyNose  diffBreath  prob\n",
       "0      99.497118         0   99          1           1     1\n",
       "1      98.960085         0   30          1          -1     1\n",
       "2     100.991823         0   22          1           1     0\n",
       "3     100.478374         1    7          0           0     1\n",
       "4     101.710680         0   33          1           1     1\n",
       "...          ...       ...  ...        ...         ...   ...\n",
       "1994  101.388926         1    8          1           1     1\n",
       "1995  101.557058         1   67          0           0     1\n",
       "1996   99.848401         0   25          0          -1     0\n",
       "1997   98.642129         1   89          0           1     0\n",
       "1998  101.238234         1   21          0           1     1\n",
       "\n",
       "[1999 rows x 6 columns]"
      ],
      "text/html": "<div>\n<style scoped>\n    .dataframe tbody tr th:only-of-type {\n        vertical-align: middle;\n    }\n\n    .dataframe tbody tr th {\n        vertical-align: top;\n    }\n\n    .dataframe thead th {\n        text-align: right;\n    }\n</style>\n<table border=\"1\" class=\"dataframe\">\n  <thead>\n    <tr style=\"text-align: right;\">\n      <th></th>\n      <th>fever</th>\n      <th>bodyPain</th>\n      <th>age</th>\n      <th>runnyNose</th>\n      <th>diffBreath</th>\n      <th>prob</th>\n    </tr>\n  </thead>\n  <tbody>\n    <tr>\n      <th>0</th>\n      <td>99.497118</td>\n      <td>0</td>\n      <td>99</td>\n      <td>1</td>\n      <td>1</td>\n      <td>1</td>\n    </tr>\n    <tr>\n      <th>1</th>\n      <td>98.960085</td>\n      <td>0</td>\n      <td>30</td>\n      <td>1</td>\n      <td>-1</td>\n      <td>1</td>\n    </tr>\n    <tr>\n      <th>2</th>\n      <td>100.991823</td>\n      <td>0</td>\n      <td>22</td>\n      <td>1</td>\n      <td>1</td>\n      <td>0</td>\n    </tr>\n    <tr>\n      <th>3</th>\n      <td>100.478374</td>\n      <td>1</td>\n      <td>7</td>\n      <td>0</td>\n      <td>0</td>\n      <td>1</td>\n    </tr>\n    <tr>\n      <th>4</th>\n      <td>101.710680</td>\n      <td>0</td>\n      <td>33</td>\n      <td>1</td>\n      <td>1</td>\n      <td>1</td>\n    </tr>\n    <tr>\n      <th>...</th>\n      <td>...</td>\n      <td>...</td>\n      <td>...</td>\n      <td>...</td>\n      <td>...</td>\n      <td>...</td>\n    </tr>\n    <tr>\n      <th>1994</th>\n      <td>101.388926</td>\n      <td>1</td>\n      <td>8</td>\n      <td>1</td>\n      <td>1</td>\n      <td>1</td>\n    </tr>\n    <tr>\n      <th>1995</th>\n      <td>101.557058</td>\n      <td>1</td>\n      <td>67</td>\n      <td>0</td>\n      <td>0</td>\n      <td>1</td>\n    </tr>\n    <tr>\n      <th>1996</th>\n      <td>99.848401</td>\n      <td>0</td>\n      <td>25</td>\n      <td>0</td>\n      <td>-1</td>\n      <td>0</td>\n    </tr>\n    <tr>\n      <th>1997</th>\n      <td>98.642129</td>\n      <td>1</td>\n      <td>89</td>\n      <td>0</td>\n      <td>1</td>\n      <td>0</td>\n    </tr>\n    <tr>\n      <th>1998</th>\n      <td>101.238234</td>\n      <td>1</td>\n      <td>21</td>\n      <td>0</td>\n      <td>1</td>\n      <td>1</td>\n    </tr>\n  </tbody>\n</table>\n<p>1999 rows × 6 columns</p>\n</div>"
     },
     "metadata": {},
     "execution_count": 63
    }
   ],
   "source": [
    "df = pd.read_csv('data.csv')\n",
    "df"
   ]
  },
  {
   "cell_type": "code",
   "execution_count": 64,
   "metadata": {},
   "outputs": [
    {
     "output_type": "execute_result",
     "data": {
      "text/plain": [
       " 1    679\n",
       "-1    678\n",
       " 0    642\n",
       "Name: diffBreath, dtype: int64"
      ]
     },
     "metadata": {},
     "execution_count": 64
    }
   ],
   "source": [
    "df['diffBreath'].value_counts()"
   ]
  },
  {
   "cell_type": "code",
   "execution_count": 65,
   "metadata": {},
   "outputs": [
    {
     "output_type": "execute_result",
     "data": {
      "text/plain": [
       "             fever     bodyPain          age    runnyNose   diffBreath  \\\n",
       "count  1999.000000  1999.000000  1999.000000  1999.000000  1999.000000   \n",
       "mean    100.014874     0.513757    51.265633     0.497749     0.000500   \n",
       "std       1.155852     0.499936    29.234716     0.500120     0.824123   \n",
       "min      98.000105     0.000000     1.000000     0.000000    -1.000000   \n",
       "25%      99.002003     0.000000    25.000000     0.000000    -1.000000   \n",
       "50%     100.016289     1.000000    52.000000     0.000000     0.000000   \n",
       "75%     101.004094     1.000000    76.000000     1.000000     1.000000   \n",
       "max     101.995380     1.000000   100.000000     1.000000     1.000000   \n",
       "\n",
       "              prob  \n",
       "count  1999.000000  \n",
       "mean      0.503752  \n",
       "std       0.500111  \n",
       "min       0.000000  \n",
       "25%       0.000000  \n",
       "50%       1.000000  \n",
       "75%       1.000000  \n",
       "max       1.000000  "
      ],
      "text/html": "<div>\n<style scoped>\n    .dataframe tbody tr th:only-of-type {\n        vertical-align: middle;\n    }\n\n    .dataframe tbody tr th {\n        vertical-align: top;\n    }\n\n    .dataframe thead th {\n        text-align: right;\n    }\n</style>\n<table border=\"1\" class=\"dataframe\">\n  <thead>\n    <tr style=\"text-align: right;\">\n      <th></th>\n      <th>fever</th>\n      <th>bodyPain</th>\n      <th>age</th>\n      <th>runnyNose</th>\n      <th>diffBreath</th>\n      <th>prob</th>\n    </tr>\n  </thead>\n  <tbody>\n    <tr>\n      <th>count</th>\n      <td>1999.000000</td>\n      <td>1999.000000</td>\n      <td>1999.000000</td>\n      <td>1999.000000</td>\n      <td>1999.000000</td>\n      <td>1999.000000</td>\n    </tr>\n    <tr>\n      <th>mean</th>\n      <td>100.014874</td>\n      <td>0.513757</td>\n      <td>51.265633</td>\n      <td>0.497749</td>\n      <td>0.000500</td>\n      <td>0.503752</td>\n    </tr>\n    <tr>\n      <th>std</th>\n      <td>1.155852</td>\n      <td>0.499936</td>\n      <td>29.234716</td>\n      <td>0.500120</td>\n      <td>0.824123</td>\n      <td>0.500111</td>\n    </tr>\n    <tr>\n      <th>min</th>\n      <td>98.000105</td>\n      <td>0.000000</td>\n      <td>1.000000</td>\n      <td>0.000000</td>\n      <td>-1.000000</td>\n      <td>0.000000</td>\n    </tr>\n    <tr>\n      <th>25%</th>\n      <td>99.002003</td>\n      <td>0.000000</td>\n      <td>25.000000</td>\n      <td>0.000000</td>\n      <td>-1.000000</td>\n      <td>0.000000</td>\n    </tr>\n    <tr>\n      <th>50%</th>\n      <td>100.016289</td>\n      <td>1.000000</td>\n      <td>52.000000</td>\n      <td>0.000000</td>\n      <td>0.000000</td>\n      <td>1.000000</td>\n    </tr>\n    <tr>\n      <th>75%</th>\n      <td>101.004094</td>\n      <td>1.000000</td>\n      <td>76.000000</td>\n      <td>1.000000</td>\n      <td>1.000000</td>\n      <td>1.000000</td>\n    </tr>\n    <tr>\n      <th>max</th>\n      <td>101.995380</td>\n      <td>1.000000</td>\n      <td>100.000000</td>\n      <td>1.000000</td>\n      <td>1.000000</td>\n      <td>1.000000</td>\n    </tr>\n  </tbody>\n</table>\n</div>"
     },
     "metadata": {},
     "execution_count": 65
    }
   ],
   "source": [
    "df.describe()"
   ]
  },
  {
   "source": [
    "---------------- Tain Test Splitting ---------------"
   ],
   "cell_type": "markdown",
   "metadata": {}
  },
  {
   "cell_type": "code",
   "execution_count": 66,
   "metadata": {},
   "outputs": [],
   "source": [
    "import numpy as np"
   ]
  },
  {
   "cell_type": "code",
   "execution_count": 67,
   "metadata": {},
   "outputs": [],
   "source": [
    "def data_split(data, ratio):\n",
    "    np.random.seed(42)\n",
    "    shuffled = np.random.permutation(len(data))\n",
    "    test_set_size = int(len(data)*ratio)\n",
    "    test_indices = shuffled[:test_set_size]\n",
    "    train_indices = shuffled[test_set_size:]\n",
    "    return data.iloc[train_indices], data.iloc[test_indices]"
   ]
  },
  {
   "cell_type": "code",
   "execution_count": 68,
   "metadata": {},
   "outputs": [],
   "source": [
    "train, test = data_split(df, 0.2)"
   ]
  },
  {
   "cell_type": "code",
   "execution_count": 69,
   "metadata": {},
   "outputs": [
    {
     "output_type": "execute_result",
     "data": {
      "text/plain": [
       "           fever  bodyPain  age  runnyNose  diffBreath  prob\n",
       "966    99.283512         1   94          0           1     1\n",
       "240    98.518685         1   11          1          -1     0\n",
       "812    98.164506         1   64          1           1     1\n",
       "1824  100.012493         0   80          1          -1     0\n",
       "1244   99.414648         1   47          0           0     0\n",
       "...          ...       ...  ...        ...         ...   ...\n",
       "1130  100.805624         1   33          1          -1     1\n",
       "1294  100.102399         0   24          1           0     1\n",
       "860   100.608076         1   30          0           0     1\n",
       "1459  101.711206         1   87          0          -1     0\n",
       "1126  100.523427         0   62          0           1     1\n",
       "\n",
       "[1600 rows x 6 columns]"
      ],
      "text/html": "<div>\n<style scoped>\n    .dataframe tbody tr th:only-of-type {\n        vertical-align: middle;\n    }\n\n    .dataframe tbody tr th {\n        vertical-align: top;\n    }\n\n    .dataframe thead th {\n        text-align: right;\n    }\n</style>\n<table border=\"1\" class=\"dataframe\">\n  <thead>\n    <tr style=\"text-align: right;\">\n      <th></th>\n      <th>fever</th>\n      <th>bodyPain</th>\n      <th>age</th>\n      <th>runnyNose</th>\n      <th>diffBreath</th>\n      <th>prob</th>\n    </tr>\n  </thead>\n  <tbody>\n    <tr>\n      <th>966</th>\n      <td>99.283512</td>\n      <td>1</td>\n      <td>94</td>\n      <td>0</td>\n      <td>1</td>\n      <td>1</td>\n    </tr>\n    <tr>\n      <th>240</th>\n      <td>98.518685</td>\n      <td>1</td>\n      <td>11</td>\n      <td>1</td>\n      <td>-1</td>\n      <td>0</td>\n    </tr>\n    <tr>\n      <th>812</th>\n      <td>98.164506</td>\n      <td>1</td>\n      <td>64</td>\n      <td>1</td>\n      <td>1</td>\n      <td>1</td>\n    </tr>\n    <tr>\n      <th>1824</th>\n      <td>100.012493</td>\n      <td>0</td>\n      <td>80</td>\n      <td>1</td>\n      <td>-1</td>\n      <td>0</td>\n    </tr>\n    <tr>\n      <th>1244</th>\n      <td>99.414648</td>\n      <td>1</td>\n      <td>47</td>\n      <td>0</td>\n      <td>0</td>\n      <td>0</td>\n    </tr>\n    <tr>\n      <th>...</th>\n      <td>...</td>\n      <td>...</td>\n      <td>...</td>\n      <td>...</td>\n      <td>...</td>\n      <td>...</td>\n    </tr>\n    <tr>\n      <th>1130</th>\n      <td>100.805624</td>\n      <td>1</td>\n      <td>33</td>\n      <td>1</td>\n      <td>-1</td>\n      <td>1</td>\n    </tr>\n    <tr>\n      <th>1294</th>\n      <td>100.102399</td>\n      <td>0</td>\n      <td>24</td>\n      <td>1</td>\n      <td>0</td>\n      <td>1</td>\n    </tr>\n    <tr>\n      <th>860</th>\n      <td>100.608076</td>\n      <td>1</td>\n      <td>30</td>\n      <td>0</td>\n      <td>0</td>\n      <td>1</td>\n    </tr>\n    <tr>\n      <th>1459</th>\n      <td>101.711206</td>\n      <td>1</td>\n      <td>87</td>\n      <td>0</td>\n      <td>-1</td>\n      <td>0</td>\n    </tr>\n    <tr>\n      <th>1126</th>\n      <td>100.523427</td>\n      <td>0</td>\n      <td>62</td>\n      <td>0</td>\n      <td>1</td>\n      <td>1</td>\n    </tr>\n  </tbody>\n</table>\n<p>1600 rows × 6 columns</p>\n</div>"
     },
     "metadata": {},
     "execution_count": 69
    }
   ],
   "source": [
    "train"
   ]
  },
  {
   "cell_type": "code",
   "execution_count": 70,
   "metadata": {},
   "outputs": [
    {
     "output_type": "execute_result",
     "data": {
      "text/plain": [
       "           fever  bodyPain  age  runnyNose  diffBreath  prob\n",
       "256    98.842497         0   88          1          -1     1\n",
       "352   101.907194         0   69          0           0     0\n",
       "298    99.886584         1   84          0          -1     0\n",
       "581    98.906540         0   43          0           1     1\n",
       "1288  100.511678         0   37          1          -1     0\n",
       "...          ...       ...  ...        ...         ...   ...\n",
       "1616   98.266491         0   48          1           1     1\n",
       "650    99.064871         1   56          0           0     1\n",
       "1973  100.967625         0   87          1           1     0\n",
       "261    98.637345         0   68          1           1     0\n",
       "1305   99.348894         0   88          0           1     1\n",
       "\n",
       "[399 rows x 6 columns]"
      ],
      "text/html": "<div>\n<style scoped>\n    .dataframe tbody tr th:only-of-type {\n        vertical-align: middle;\n    }\n\n    .dataframe tbody tr th {\n        vertical-align: top;\n    }\n\n    .dataframe thead th {\n        text-align: right;\n    }\n</style>\n<table border=\"1\" class=\"dataframe\">\n  <thead>\n    <tr style=\"text-align: right;\">\n      <th></th>\n      <th>fever</th>\n      <th>bodyPain</th>\n      <th>age</th>\n      <th>runnyNose</th>\n      <th>diffBreath</th>\n      <th>prob</th>\n    </tr>\n  </thead>\n  <tbody>\n    <tr>\n      <th>256</th>\n      <td>98.842497</td>\n      <td>0</td>\n      <td>88</td>\n      <td>1</td>\n      <td>-1</td>\n      <td>1</td>\n    </tr>\n    <tr>\n      <th>352</th>\n      <td>101.907194</td>\n      <td>0</td>\n      <td>69</td>\n      <td>0</td>\n      <td>0</td>\n      <td>0</td>\n    </tr>\n    <tr>\n      <th>298</th>\n      <td>99.886584</td>\n      <td>1</td>\n      <td>84</td>\n      <td>0</td>\n      <td>-1</td>\n      <td>0</td>\n    </tr>\n    <tr>\n      <th>581</th>\n      <td>98.906540</td>\n      <td>0</td>\n      <td>43</td>\n      <td>0</td>\n      <td>1</td>\n      <td>1</td>\n    </tr>\n    <tr>\n      <th>1288</th>\n      <td>100.511678</td>\n      <td>0</td>\n      <td>37</td>\n      <td>1</td>\n      <td>-1</td>\n      <td>0</td>\n    </tr>\n    <tr>\n      <th>...</th>\n      <td>...</td>\n      <td>...</td>\n      <td>...</td>\n      <td>...</td>\n      <td>...</td>\n      <td>...</td>\n    </tr>\n    <tr>\n      <th>1616</th>\n      <td>98.266491</td>\n      <td>0</td>\n      <td>48</td>\n      <td>1</td>\n      <td>1</td>\n      <td>1</td>\n    </tr>\n    <tr>\n      <th>650</th>\n      <td>99.064871</td>\n      <td>1</td>\n      <td>56</td>\n      <td>0</td>\n      <td>0</td>\n      <td>1</td>\n    </tr>\n    <tr>\n      <th>1973</th>\n      <td>100.967625</td>\n      <td>0</td>\n      <td>87</td>\n      <td>1</td>\n      <td>1</td>\n      <td>0</td>\n    </tr>\n    <tr>\n      <th>261</th>\n      <td>98.637345</td>\n      <td>0</td>\n      <td>68</td>\n      <td>1</td>\n      <td>1</td>\n      <td>0</td>\n    </tr>\n    <tr>\n      <th>1305</th>\n      <td>99.348894</td>\n      <td>0</td>\n      <td>88</td>\n      <td>0</td>\n      <td>1</td>\n      <td>1</td>\n    </tr>\n  </tbody>\n</table>\n<p>399 rows × 6 columns</p>\n</div>"
     },
     "metadata": {},
     "execution_count": 70
    }
   ],
   "source": [
    "test"
   ]
  },
  {
   "cell_type": "code",
   "execution_count": 71,
   "metadata": {},
   "outputs": [],
   "source": [
    "X_train = train[['fever','bodyPain','age','runnyNose','diffBreath']].to_numpy()\n",
    "X_test = test[['fever','bodyPain','age','runnyNose','diffBreath']].to_numpy()\n",
    "Y_train = train[['prob']].to_numpy().reshape(1600,)\n",
    "Y_test = test[['prob']].to_numpy().reshape(399,)"
   ]
  },
  {
   "source": [
    "----------------- ML Data ---------------"
   ],
   "cell_type": "markdown",
   "metadata": {}
  },
  {
   "cell_type": "code",
   "execution_count": 72,
   "metadata": {},
   "outputs": [],
   "source": [
    "from sklearn.linear_model import LogisticRegression"
   ]
  },
  {
   "cell_type": "code",
   "execution_count": 73,
   "metadata": {},
   "outputs": [
    {
     "output_type": "execute_result",
     "data": {
      "text/plain": [
       "LogisticRegression()"
      ]
     },
     "metadata": {},
     "execution_count": 73
    }
   ],
   "source": [
    "clf = LogisticRegression()\n",
    "clf.fit(X_train, Y_train)"
   ]
  },
  {
   "cell_type": "code",
   "execution_count": 74,
   "metadata": {},
   "outputs": [],
   "source": [
    "inputFeatures = [100,1,22,1,1]\r\n",
    "infProb = clf.predict_proba([inputFeatures])[0][1]"
   ]
  },
  {
   "cell_type": "code",
   "execution_count": 75,
   "metadata": {},
   "outputs": [
    {
     "output_type": "execute_result",
     "data": {
      "text/plain": [
       "0.5194309382174166"
      ]
     },
     "metadata": {},
     "execution_count": 75
    }
   ],
   "source": [
    "infProb"
   ]
  },
  {
   "cell_type": "code",
   "execution_count": null,
   "metadata": {},
   "outputs": [],
   "source": []
  }
 ]
}